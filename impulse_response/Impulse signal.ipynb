{
 "cells": [
  {
   "cell_type": "markdown",
   "metadata": {},
   "source": [
    "## Laboratory Experiment 006: Impulse signal\n",
    "\n",
    "An impulse signal is made up of a single sample value of 1 in an infinitely long stream of zeros. You can think about it as a burst of energy, which arrives very quickly, and which dissipates just as quickly."
   ]
  },
  {
   "cell_type": "markdown",
   "metadata": {},
   "source": [
    "Let's see how we can visualize the impulse signal and generate one. But first, let's pull in some required dependencies"
   ]
  },
  {
   "cell_type": "code",
   "execution_count": null,
   "metadata": {},
   "outputs": [],
   "source": [
    "conda install -c conda-forge pandoc"
   ]
  },
  {
   "cell_type": "code",
   "execution_count": null,
   "metadata": {},
   "outputs": [],
   "source": [
    "conda install nbconvert"
   ]
  },
  {
   "cell_type": "code",
   "execution_count": null,
   "metadata": {},
   "outputs": [],
   "source": [
    "pip install SciencePlots"
   ]
  },
  {
   "cell_type": "code",
   "execution_count": null,
   "metadata": {},
   "outputs": [],
   "source": [
    "import scienceplots\n",
    "import numpy as np\n",
    "import matplotlib.pyplot as plt\n",
    "\n",
    "# If the line below is giving you compiler errors, comment it out.\n",
    "plt.style.use(['science', 'notebook', 'grid'])"
   ]
  },
  {
   "cell_type": "code",
   "execution_count": null,
   "metadata": {},
   "outputs": [],
   "source": [
    "frameSize = 1024\n",
    "\n",
    "impulse = np.zeros(frameSize)\n",
    "impulse[0] = 1;\n",
    "\n",
    "plt.plot(impulse, 'bo-')\n",
    "plt.xlabel('Sample count')\n",
    "plt.ylabel('Amplitude')\n",
    "plt.xlim(-0.5, 10)\n",
    "plt.title(\"Impulse signal (Time domain)\")\n",
    "\n",
    "plt.show"
   ]
  },
  {
   "cell_type": "markdown",
   "metadata": {},
   "source": [
    "Let's listen to what the impulse signal sounds like"
   ]
  },
  {
   "cell_type": "code",
   "execution_count": null,
   "metadata": {},
   "outputs": [],
   "source": [
    "from IPython.display import Audio\n",
    "\n",
    "sampleRate = 44100\n",
    "audio = Audio(data=impulse, rate=sampleRate)\n",
    "audio"
   ]
  },
  {
   "cell_type": "markdown",
   "metadata": {},
   "source": [
    "### Frequency analysis of impulse signal\n",
    "\n",
    "Performing Fourier analysis (FFT) we can see the frequency representation of the impulse signal which reveals that all represetnable frequencies are present within this impulse signal"
   ]
  },
  {
   "cell_type": "code",
   "execution_count": null,
   "metadata": {},
   "outputs": [],
   "source": [
    "from scipy.fftpack import fft\n",
    "\n",
    "spectrum = fft(impulse)\n",
    "\n",
    "x = np.linspace(0, spectrum.size * sampleRate / frameSize / 2 , spectrum.size//2)\n",
    "y = np.abs(spectrum)[:spectrum.size//2]\n",
    "plt.plot(x, y)\n",
    "plt.xscale('log')\n",
    "plt.xlabel('Frequency (Hz)')\n",
    "plt.ylabel('Amplitude')\n",
    "plt.title('Impulse signal (Frequency domain)')\n",
    "plt.show()"
   ]
  },
  {
   "cell_type": "markdown",
   "metadata": {},
   "source": [
    "Why do impulse signals contain all possible sinusoids? Let's try and think about it the other way around. What would a signal look like when you add all possible sinusoids together?  \n",
    "\n",
    "### Sum of cosines\n",
    "\n",
    "Let's take a sample rate of 400. And let's add sinusoids together starting from a sinusoid of frequency 1, all the way to a sinusoid of frequency 200 (Nyquist frequency). What do you think we'd get?\n",
    "\n"
   ]
  },
  {
   "cell_type": "code",
   "execution_count": null,
   "metadata": {},
   "outputs": [],
   "source": [
    "sampleRate = 400\n",
    "freq = 200\n",
    "\n",
    "arr = np.linspace(0, freq, sampleRate)\n",
    "combination = np.zeros(sampleRate)\n",
    "for f in range(1, freq):\n",
    "    combination += np.cos(2 * np.pi * f * arr)\n",
    "combination /= freq\n",
    "\n",
    "plt.plot(combination[:combination.size//2], 'o-')\n",
    "plt.xlabel('Sample count')\n",
    "plt.ylabel('Amplitude')\n",
    "#plt.xlim(-0.5, 10)\n",
    "plt.title(\"Combination of \" + str(freq) + \" cosines\")\n",
    "plt.show()"
   ]
  },
  {
   "cell_type": "markdown",
   "metadata": {},
   "source": [
    "### An alternate approach: Sinc function\n",
    "\n",
    "Here's an alternative way of taking a function in continuous time and converting it into an impulse signal in discrete time. The <b>sinc function</b>. The normalized form of the sinc function (which is the default form in NumPy) can be used, and when plotted on integral sample points, we get an impulse signal. \n"
   ]
  },
  {
   "cell_type": "code",
   "execution_count": null,
   "metadata": {},
   "outputs": [],
   "source": [
    "arr = np.arange(-200, 200, 1)\n",
    "sincNormalized = np.sinc(arr)\n",
    "sincUnnormalized = np.sinc(arr/np.pi)\n",
    "plt.plot(sincUnnormalized, 'ro-', label='Unnormalized')\n",
    "plt.plot(sincNormalized, 'bo-', label='Normalized')\n",
    "plt.xlim(175,225)\n",
    "plt.show\n",
    "plt.legend()"
   ]
  },
  {
   "cell_type": "code",
   "execution_count": null,
   "metadata": {},
   "outputs": [],
   "source": []
  }
 ],
 "metadata": {
  "kernelspec": {
   "display_name": "Python 3 (ipykernel)",
   "language": "python",
   "name": "python3"
  },
  "language_info": {
   "codemirror_mode": {
    "name": "ipython",
    "version": 3
   },
   "file_extension": ".py",
   "mimetype": "text/x-python",
   "name": "python",
   "nbconvert_exporter": "python",
   "pygments_lexer": "ipython3",
   "version": "3.12.2"
  }
 },
 "nbformat": 4,
 "nbformat_minor": 4
}

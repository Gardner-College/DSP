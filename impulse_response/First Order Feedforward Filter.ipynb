{
 "cells": [
  {
   "cell_type": "markdown",
   "metadata": {},
   "source": [
    "## Laboratory Experiment 006: First Order FeedForward Filter\n",
    "\n",
    "Let's analyze the impulse response of a 1st order feedforward filter."
   ]
  },
  {
   "cell_type": "code",
   "execution_count": null,
   "metadata": {},
   "outputs": [],
   "source": [
    "pip install SciencePlots"
   ]
  },
  {
   "cell_type": "code",
   "execution_count": null,
   "metadata": {},
   "outputs": [],
   "source": [
    "import scienceplots\n",
    "import numpy as np\n",
    "import matplotlib.pyplot as plt\n",
    "\n",
    "# If the line below is giving you compiler errors, comment it out.\n",
    "plt.style.use(['science', 'notebook', 'grid'])\n",
    "\n",
    "frameSize = 2048\n",
    "\n",
    "def feedForwardFilter(x, a0, a1):\n",
    "    y = np.zeros(x.size)\n",
    "    for n in range(0, x.size):\n",
    "        y[n] = a0 * x[n] + a1 * x[n-1]\n",
    "    return y\n",
    "\n",
    "\n",
    "impulse = np.zeros(frameSize)\n",
    "impulse[0] = 1;\n",
    "\n",
    "impulseResponse = feedForwardFilter(impulse, 0.5, 0.5)\n",
    "\n",
    "fig, axes = plt.subplots(1, 2, figsize=(12,4))\n",
    "ax = axes[0]\n",
    "ax.plot(impulse, 'bo-')\n",
    "ax.set_xlabel('Sample count')\n",
    "ax.set_ylabel('Amplitude')\n",
    "ax.set_ylim(-0.1, 1.1)\n",
    "ax.set_xlim(-0.5, 10)\n",
    "ax.set_title(\"Impulse\")\n",
    "\n",
    "ax = axes[1]\n",
    "ax.plot(impulseResponse, 'ro-')\n",
    "ax.set_xlabel('Sample count')\n",
    "ax.set_ylim(-1.1, 1.1)\n",
    "ax.set_xlim(-0.5, 11)\n",
    "ax.set_title(\"Impulse Response\")\n",
    "\n",
    "plt.show"
   ]
  },
  {
   "cell_type": "markdown",
   "metadata": {},
   "source": [
    "We can then perform a Fourier transform on the impulse signal. This will give us an array of complex numbers which is stored in `spectrum`. Extracting the magnitudes of the complex numbers and plotting them will give us a frequency response plot, and extracting the angles will give us a phase response plot"
   ]
  },
  {
   "cell_type": "code",
   "execution_count": null,
   "metadata": {},
   "outputs": [],
   "source": [
    "from scipy.fftpack import fft\n",
    "\n",
    "spectrum = fft(feedForwardFilter(impulse, 0.5, 0.5))\n",
    "\n",
    "x = np.linspace(0, 0.5, spectrum.size//2)\n",
    "\n",
    "fig, axes = plt.subplots(1, 2, figsize=(12,4))\n",
    "ax = axes[0]\n",
    "with np.errstate(divide='ignore'):\n",
    "    y = (20 * np.log10(np.abs(spectrum)))[:spectrum.size//2]\n",
    "ax.plot(x, y, 'b')\n",
    "ax.set_xlabel('Normalized frequency')\n",
    "ax.set_ylabel('Amplitude (dB)')\n",
    "ax.set_title(\"Frequency Response\")\n",
    "\n",
    "ax = axes[1]\n",
    "y = np.degrees(np.angle(spectrum))[:spectrum.size//2]\n",
    "ax.plot(x, y, 'r')\n",
    "ax.set_xlabel('Normalized frequency')\n",
    "ax.set_ylabel('Phase (deg)')\n",
    "ax.set_title(\"Phase Response\")\n",
    "\n",
    "plt.show()"
   ]
  }
 ],
 "metadata": {
  "kernelspec": {
   "display_name": "Python 3 (ipykernel)",
   "language": "python",
   "name": "python3"
  },
  "language_info": {
   "codemirror_mode": {
    "name": "ipython",
    "version": 3
   },
   "file_extension": ".py",
   "mimetype": "text/x-python",
   "name": "python",
   "nbconvert_exporter": "python",
   "pygments_lexer": "ipython3",
   "version": "3.12.2"
  }
 },
 "nbformat": 4,
 "nbformat_minor": 4
}

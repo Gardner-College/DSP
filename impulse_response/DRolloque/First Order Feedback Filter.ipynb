{
 "cells": [
  {
   "cell_type": "code",
   "execution_count": null,
   "id": "db95b7f6-2b04-4c70-bd2e-c9b61f91e6d3",
   "metadata": {},
   "outputs": [
    {
     "name": "stdout",
     "output_type": "stream",
     "text": [
      "Retrieving notices: done\n",
      "Channels:\n",
      " - defaults\n",
      " - conda-forge\n",
      "Platform: linux-64\n",
      "Collecting package metadata (repodata.json): done\n",
      "Solving environment: / "
     ]
    }
   ],
   "source": [
    "conda update ipywidgets"
   ]
  },
  {
   "cell_type": "code",
   "execution_count": null,
   "id": "d7e6ef22-def3-45ab-9838-75da3e84eb87",
   "metadata": {},
   "outputs": [],
   "source": [
    "import numpy as np\n",
    "import matplotlib.pyplot as plt\n",
    "import ipywidgets as widgets\n",
    "\n",
    "frameSize = 2048\n",
    "\n",
    "def feedbackFilter(x, a0, b1):\n",
    "    y = np.zeros(x.size)\n",
    "    for n in range(0, x.size):\n",
    "        y[n] = a0 * x[n] - b1 * y[n-1]\n",
    "    return y\n",
    "\n",
    "\n",
    "impulse = np.zeros(frameSize)\n",
    "impulse[0] = 1;\n",
    "\n",
    "@widgets.interact(b1=widgets.FloatSlider(min=-1.0, max=1.0, step=0.01, value=0.8))\n",
    "def execute(b1=0.8):\n",
    "    impulseResponse = feedbackFilter(impulse, 1.0, b1)\n",
    "    \n",
    "    fig, axes = plt.subplots(1, 2, figsize=(16,6))\n",
    "    ax = axes[0]\n",
    "    ax.plot(impulse, 'bo-')\n",
    "    ax.set_xlabel('Sample count')\n",
    "    ax.set_ylabel('Amplitude')\n",
    "    ax.set_ylim(-0.1, 1.1)\n",
    "    ax.set_xlim(-0.5, 10)\n",
    "    ax.set_title(\"Impulse\")\n",
    "    ax.grid(which='both', axis='both')\n",
    "    \n",
    "    ax = axes[1]\n",
    "    ax.plot(impulseResponse, 'ro-')\n",
    "    ax.set_xlabel('Sample count')\n",
    "    ax.set_ylim(-1.1, 1.1)\n",
    "    ax.set_xlim(-0.5, 50)\n",
    "    ax.set_title(\"Impulse Response\")\n",
    "    ax.grid(which='both', axis='both')\n",
    "\n",
    "    plt.show"
   ]
  },
  {
   "cell_type": "code",
   "execution_count": null,
   "id": "9b612f1c-1660-4aac-9705-ed27ae397aaa",
   "metadata": {},
   "outputs": [],
   "source": [
    "from scipy.fftpack import fft\n",
    "\n",
    "sampleRate = 44100\n",
    "\n",
    "@widgets.interact(b1=widgets.FloatSlider(min=-1.0, max=1.0, step=0.001, value=0.8))\n",
    "def execute(b1=0.8):\n",
    "    spectrum = fft(feedbackFilter(impulse, 1.0, b1))    \n",
    "    x = np.linspace(0, 0.5, spectrum.size//2)\n",
    "    \n",
    "    fig, axes = plt.subplots(1, 2, figsize=(16,6))\n",
    "    ax = axes[0]\n",
    "    with np.errstate(divide='ignore'):\n",
    "        y = (20 * np.log10(np.abs(spectrum)))[:spectrum.size//2]\n",
    "    ax.plot(x, y, 'b')\n",
    "    #ax.set_xscale('log')\n",
    "    ax.set_xlabel('Normalized frequency')\n",
    "    ax.set_ylabel('Amplitude (dB)')\n",
    "    ax.set_title(\"Frequency Response\")\n",
    "    ax.grid(which='both', axis='both')\n",
    "    \n",
    "    ax = axes[1]\n",
    "    y = np.degrees(np.angle(spectrum))[:spectrum.size//2]\n",
    "    ax.plot(x, y, 'r')\n",
    "    #ax.set_xscale('log')\n",
    "    ax.set_xlabel('Normalized frequency')\n",
    "    ax.set_ylabel('Phase (deg)')\n",
    "    ax.set_title(\"Phase Response\")\n",
    "    ax.grid(which='both', axis='both')\n",
    "    \n",
    "    plt.show()"
   ]
  }
 ],
 "metadata": {
  "kernelspec": {
   "display_name": "Python 3 (ipykernel)",
   "language": "python",
   "name": "python3"
  },
  "language_info": {
   "codemirror_mode": {
    "name": "ipython",
    "version": 3
   },
   "file_extension": ".py",
   "mimetype": "text/x-python",
   "name": "python",
   "nbconvert_exporter": "python",
   "pygments_lexer": "ipython3",
   "version": "3.12.2"
  }
 },
 "nbformat": 4,
 "nbformat_minor": 5
}

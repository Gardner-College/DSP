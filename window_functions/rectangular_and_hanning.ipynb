{
 "cells": [
  {
   "cell_type": "markdown",
   "metadata": {
    "id": "LS3enbEDYZBF"
   },
   "source": [
    "# Laboratory Experiment 007: Rectangular Window"
   ]
  },
  {
   "cell_type": "markdown",
   "metadata": {
    "hide_input": true,
    "id": "tAvCW17fYZBJ"
   },
   "source": [
    "How do we design Window functions to obtain higher stopband attenuation? There are 2 versions, for windows of **even** and **odd length**. We now analyse a few common window types.\n",
    "\n",
    "Lets start again with the **rectangular window**.\n",
    "$h(n)=1$, for n=0,...,L-1.<br>\n",
    "\n",
    "In Python we get its frequency response for L=16:"
   ]
  },
  {
   "cell_type": "code",
   "execution_count": null,
   "metadata": {
    "colab": {
     "base_uri": "https://localhost:8080/",
     "height": 701
    },
    "id": "7A6NXnuXYZBL",
    "outputId": "7220f444-73b9-4223-8341-f0482baae6e0"
   },
   "outputs": [],
   "source": [
    "import numpy as np\n",
    "import matplotlib.pyplot as plt\n",
    "import scipy.signal as signal\n",
    "\n",
    "h=np.ones(16);\n",
    "omega, H =signal.freqz(h)\n",
    "plt.figure(figsize=(10,8))\n",
    "plt.plot(omega, 20*np.log10(abs(H)+1e-6))\n",
    "plt.axis([0, 3.14, -30, 30])\n",
    "plt.xlabel('Normalized Frequency')\n",
    "plt.ylabel('Magnitude (dB)')\n",
    "plt.grid()"
   ]
  },
  {
   "cell_type": "markdown",
   "metadata": {
    "hide_input": true,
    "id": "Bx5RhisEYZBM"
   },
   "source": [
    "Observe: Its main lobe has a 3dB width of about $0.05 \\pi \\approx 0.16$, the side lobe attenuation is about -15 to -25 dB.<br>\n",
    "We can design different windows, which de-emphasize a transition region from passband to stopband, and emphasize the stopband attenuation more than the passband attenuation.\n",
    "\n",
    "This can be seen as minimizing a **weighted** squared error function, where the parts the we want to emphasize get a higher weight.\n",
    "\n",
    "In Python we can formulate an error function with a weighted squared error as follows, with pb, tb: number of frequency samples in the passband and transitionband, respectively,"
   ]
  },
  {
   "cell_type": "code",
   "execution_count": null,
   "metadata": {
    "id": "0_RvZ430YZBO"
   },
   "outputs": [],
   "source": [
    "import numpy as np\n",
    "import scipy.signal as signal\n",
    "\n",
    "def errfunc(h):\n",
    "    numfreqsamples=512\n",
    "\n",
    "    #desired passband:\n",
    "    pb=int(numfreqsamples/4.0)\n",
    "    #desired transition band:\n",
    "    tb=int(numfreqsamples/8.0)\n",
    "\n",
    "    w, H = signal.freqz(h,1,numfreqsamples)\n",
    "    H_desired=np.concatenate((np.ones(pb),np.zeros(numfreqsamples-pb)))\n",
    "    weights = np.concatenate((np.ones(pb),np.zeros(tb), 1000*np.ones(numfreqsamples-pb-tb)))\n",
    "    err = np.sum(np.abs(H-H_desired)*weights)\n",
    "    return err"
   ]
  },
  {
   "cell_type": "markdown",
   "metadata": {
    "id": "VUgX-U4mYZBP"
   },
   "source": [
    "#### View H Desired and Weights"
   ]
  },
  {
   "cell_type": "code",
   "execution_count": null,
   "metadata": {
    "colab": {
     "base_uri": "https://localhost:8080/",
     "height": 843
    },
    "id": "yRlxeLPPYZBP",
    "outputId": "0d951b41-cca0-4324-b7b6-6402ac81f13c"
   },
   "outputs": [],
   "source": [
    "import matplotlib.pyplot as plt\n",
    "import numpy as np\n",
    "\n",
    "numfreqsamples=512\n",
    "\n",
    "#desired passband:\n",
    "pb=int(numfreqsamples/4.0)\n",
    "#desired transition band:\n",
    "tb=int(numfreqsamples/8.0)\n",
    "\n",
    "# See H_Desired\n",
    "plt.figure()\n",
    "plt.plot(np.concatenate((np.ones(pb),np.zeros(numfreqsamples-pb))))\n",
    "plt.grid()\n",
    "\n",
    "plt.figure()\n",
    "plt.plot(np.concatenate((np.ones(pb),np.zeros(tb), 1000*np.ones(numfreqsamples-pb-tb))))\n",
    "plt.grid()"
   ]
  },
  {
   "cell_type": "markdown",
   "metadata": {
    "hide_input": false,
    "id": "r3PDiwYVYZBQ"
   },
   "source": [
    "We can then apply optimization to obtain the window or filter samples which minimize this error, for instance using “scipy.optimize”. In this example a window or filter h (depending on how it is used) of length 16 samples or taps is obtained with:"
   ]
  },
  {
   "cell_type": "code",
   "execution_count": null,
   "metadata": {
    "colab": {
     "base_uri": "https://localhost:8080/"
    },
    "id": "T7Bav1eQYZBR",
    "outputId": "43f40a2c-9075-49f1-8afe-6e798647e1b0"
   },
   "outputs": [],
   "source": [
    "import scipy.optimize as opt\n",
    "\n",
    "x0=np.random.rand(16) #alternative: e.g. 32\n",
    "print('x0=', x0)\n",
    "minout=opt.minimize(errfunc,x0)\n",
    "h=minout.x\n",
    "print('h=', h)"
   ]
  },
  {
   "cell_type": "markdown",
   "metadata": {
    "id": "seFi6n2bYZBS"
   },
   "source": [
    "We get the samples or impulse response as:"
   ]
  },
  {
   "cell_type": "code",
   "execution_count": null,
   "metadata": {
    "colab": {
     "base_uri": "https://localhost:8080/",
     "height": 676
    },
    "hide_input": false,
    "id": "5BF2_eWgYZBS",
    "outputId": "02d1eafa-aa0c-47ff-e788-8a804f86e73c"
   },
   "outputs": [],
   "source": [
    "plt.figure(figsize=(10,8))\n",
    "plt.plot(h)\n",
    "plt.grid()"
   ]
  },
  {
   "cell_type": "markdown",
   "metadata": {
    "id": "p5sydiefYZBT"
   },
   "source": [
    "**Observe:** the negative sign doesn’t matter, because we only optimized for the magnitude. It magnitude of the frequency response is,"
   ]
  },
  {
   "cell_type": "code",
   "execution_count": null,
   "metadata": {
    "colab": {
     "base_uri": "https://localhost:8080/",
     "height": 718
    },
    "id": "fMNbGQ03YZBT",
    "outputId": "a49f910a-1f49-4cea-92d7-591f272050ef"
   },
   "outputs": [],
   "source": [
    "omega, H =signal.freqz(h)\n",
    "plt.figure(figsize=(10,8))\n",
    "plt.plot(omega, 20*np.log10(abs(H)+1e-6))\n",
    "plt.xlabel('Normalized Frequency')\n",
    "plt.ylabel('Magnitude (dB)')\n",
    "plt.title('LP Mag. Frequency Response from Weighted Error Optimazation')\n",
    "plt.grid()"
   ]
  },
  {
   "cell_type": "markdown",
   "metadata": {
    "id": "mRvRuLbuYZBT"
   },
   "source": [
    "Observe the decently high stopband attenuation of about -80 dB!\n",
    "\n",
    "Usually this optimization gives the best answer for most applications. But there are also more **“pre-fabricated” windows** for filter design, with different trade-offs of transition band width and stopband attenuation, for convenience."
   ]
  },
  {
   "cell_type": "markdown",
   "metadata": {
    "id": "4FT-HT8SYZBU"
   },
   "source": [
    "# Hanning Window"
   ]
  },
  {
   "cell_type": "markdown",
   "metadata": {
    "id": "zfn3Kc_sYZBU"
   },
   "source": [
    "The first is the **raised cosine window**, also known as **Hann- or Hanning Window**:\n",
    "\n",
    "$$\\large\n",
    " {h ( n ) =0.5 - 0.5cos \\left(  \\frac{  2π}   {L}   ( n+0. 5 )  \\right) }\n",
    "$$\n",
    ",with n=0,…,L-1, for even window lengths.\n",
    "\n",
    "An example of a raised cosine with even window length and L=16:  We obtain its plot with:\n"
   ]
  },
  {
   "cell_type": "code",
   "execution_count": null,
   "metadata": {
    "id": "BEOWkFN4YZBV",
    "outputId": "544b6212-174e-4ab0-cf93-e0bf2d3b6241"
   },
   "outputs": [],
   "source": [
    "h=0.5-0.5*np.cos(2*np.pi/16*(np.arange(16)+0.5))\n",
    "\n",
    "plt.figure(figsize=(10,8))\n",
    "plt.plot(h)\n",
    "plt.grid()"
   ]
  },
  {
   "cell_type": "markdown",
   "metadata": {
    "id": "-Uc3TZUCYZBV"
   },
   "source": [
    "**Observe:** The center is between 2 samples!\n",
    "\n",
    "Its frequency response is obtained with freqz:\n"
   ]
  },
  {
   "cell_type": "code",
   "execution_count": null,
   "metadata": {
    "hide_input": false,
    "id": "xiRfDQPsYZBV"
   },
   "outputs": [],
   "source": [
    "def freqz(x):\n",
    "    # get frequency bins and according magnitude values\n",
    "    f, H = signal.freqz(x)\n",
    "\n",
    "    #normalized frequency\n",
    "    fNorm = f/np.pi\n",
    "\n",
    "    # magnitude in dB\n",
    "    hdB = 20 * np.log10(abs(H)+1e-5) #\"+1e-5\" avoids log10(0)!\n",
    "\n",
    "    # open figure\n",
    "    plt.figure(figsize=(10,8))\n",
    "\n",
    "    plt.subplot(211)\n",
    "    plt.title('Magnitude')\n",
    "    plt.plot(f, hdB, 'b')\n",
    "    plt.axis([0,3.14,np.min(hdB)-1,np.max(hdB)+1])\n",
    "    plt.grid(True)\n",
    "    plt.xlabel('Normalized Frequency (rad/sample)')\n",
    "    plt.ylabel('Magnitude (dB)')\n",
    "\n",
    "    plt.subplot(212)\n",
    "    plt.title('Phase')\n",
    "    angles = np.unwrap(np.angle(H))\n",
    "    anglesGrad = (360 * angles)/(2*np.pi)\n",
    "    plt.plot(f, anglesGrad, 'b')\n",
    "    plt.axis([0,3.14,np.min(anglesGrad),np.max(anglesGrad)])\n",
    "    plt.grid(True)\n",
    "    plt.xlabel('Normalized Frequency (rad/sample)')\n",
    "    plt.ylabel('Phase (degrees)')\n",
    "    plt.tight_layout()"
   ]
  },
  {
   "cell_type": "code",
   "execution_count": null,
   "metadata": {
    "id": "bFtRO7SCYZBV",
    "outputId": "93df5ed7-d9ae-4920-f88f-a484fa44418e"
   },
   "outputs": [],
   "source": [
    "freqz(h)"
   ]
  },
  {
   "cell_type": "markdown",
   "metadata": {
    "id": "CSz2rrkWYZBW"
   },
   "source": [
    "Here we can see that we obtain also a much higher attenuation (in comparison to the rectangular function) for the first side lobe, at over -35 dB (measured from the maximum of the main lobe, the pass band), and far off in the stop band we get about -60 dB attenuation!\n",
    "\n",
    "But at the cost of a wider main lobe (its 3dB width is about $0.1\\pi$, twice as wide as for the rectangular window), which leads to a wider transition band.\n",
    "\n",
    "This shows a **general trade-off:** We can **trade transition width** for **stop-band attenuation.**\n",
    "\n",
    "For odd window lengths we get:\n",
    "\n",
    "$$\\large\n",
    "h(n)=0.5-0.5cos \\left(\\frac{2\\pi}{L+1}(n+1)\\right)$$\n",
    ", with n=0,…,L-1.\n",
    "\n",
    "Example for L=17 (number of samples of the impulse response, equal to the coefficients, since this represents an FIR filter):\n"
   ]
  },
  {
   "cell_type": "code",
   "execution_count": null,
   "metadata": {
    "id": "WMDBbI_8YZBW",
    "outputId": "a37ed452-0859-404d-d990-9eacea1fe972"
   },
   "outputs": [],
   "source": [
    "h=0.5-0.5*np.cos(2*np.pi/18*(np.arange(17)+1))\n",
    "\n",
    "plt.figure(figsize=(10,8))\n",
    "plt.plot(h)\n",
    "plt.grid()"
   ]
  },
  {
   "cell_type": "markdown",
   "metadata": {
    "id": "EwUCf735YZBW"
   },
   "source": [
    "**Observe:** Here the center is right on one sample!\n",
    "\n",
    "For the **Sine window** we get:\n",
    "\n",
    "$$\\large\n",
    "h(n)=sin(\\frac{\\pi}{L}(n+0.5))$$\n",
    "\n",
    ",with n=0,…,L-1 for even window lengths L, or\n",
    "\n",
    "$$\\large\n",
    "h(n)=sin(\\frac{\\pi}{L+1}(n+1))\n",
    "$$\n",
    ",with n=0,…,L-1 for odd window length L.\n",
    "\n",
    "Example for L=16:"
   ]
  },
  {
   "cell_type": "code",
   "execution_count": null,
   "metadata": {
    "id": "DYhfJclIYZBX",
    "outputId": "3bfb4f66-2d27-48a5-ce8d-d0d1438b1237"
   },
   "outputs": [],
   "source": [
    "s=np.sin(np.pi/16*(np.arange(16)+0.5))\n",
    "\n",
    "plt.figure(figsize=(10,8))\n",
    "plt.plot(s)\n",
    "plt.grid()"
   ]
  },
  {
   "cell_type": "markdown",
   "metadata": {
    "id": "a0-msIM9YZBX"
   },
   "source": [
    "Its frequency response is:"
   ]
  },
  {
   "cell_type": "code",
   "execution_count": null,
   "metadata": {
    "id": "f9g-DcbKYZBX",
    "outputId": "e288da13-6957-49e9-d2dc-2c7a863f441b"
   },
   "outputs": [],
   "source": [
    "freqz(s)"
   ]
  },
  {
   "cell_type": "markdown",
   "metadata": {
    "id": "LYeukUIKYZBX"
   },
   "source": [
    "Here we can see that the **main lobe is somewhat narrower** than for the raised cosine window, with a 3dB width of about $0.04\\pi$, but the first side lobe has only about -20 dB attenuation. But the further side lobes increase in attenuation. This **attenuation** is more  than for the rectangular window, but **less than for the raised cosine window**. On the other hand, its transition bandwidth is less than for the raised cosine window.\n",
    "\n",
    "Observe that this always results in positive values for the window functions, and that they are perfectly symmetric (for odd lengths there is a sample right at the center, for even length windows the center is right between 2 center samples)."
   ]
  }
 ],
 "metadata": {
  "colab": {
   "provenance": []
  },
  "kernelspec": {
   "display_name": "Python 3 (ipykernel)",
   "language": "python",
   "name": "python3"
  },
  "language_info": {
   "codemirror_mode": {
    "name": "ipython",
    "version": 3
   },
   "file_extension": ".py",
   "mimetype": "text/x-python",
   "name": "python",
   "nbconvert_exporter": "python",
   "pygments_lexer": "ipython3",
   "version": "3.12.2"
  }
 },
 "nbformat": 4,
 "nbformat_minor": 4
}

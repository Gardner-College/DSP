{
 "cells": [
  {
   "cell_type": "markdown",
   "id": "98f2a803",
   "metadata": {},
   "source": [
    "# Laboratory Experiment 007: Blackman Window\n",
    "This notebook demonstrates the use of the Blackman window, which provides sharp roll-off and is useful for high-accuracy spectral analysis."
   ]
  },
  {
   "cell_type": "code",
   "execution_count": null,
   "id": "ab147d45",
   "metadata": {},
   "outputs": [],
   "source": [
    "import numpy as np\n",
    "import matplotlib.pyplot as plt\n",
    "from scipy.signal import get_window, welch"
   ]
  },
  {
   "cell_type": "code",
   "execution_count": null,
   "id": "7c30343d",
   "metadata": {},
   "outputs": [],
   "source": [
    "# Generate a Sample Signal\n",
    "fs = 1000  # Sampling frequency (Hz)\n",
    "t = np.linspace(0, 1, fs, endpoint=False)  # Time vector\n",
    "f1, f2 = 50, 150  # Frequencies of the sine waves (Hz)\n",
    "signal = np.sin(2 * np.pi * f1 * t) + 0.5 * np.sin(2 * np.pi * f2 * t)\n",
    "\n",
    "# Plot the Sample Signal\n",
    "plt.figure(figsize=(10, 6))\n",
    "\n",
    "# Plotting the signal\n",
    "plt.plot(t, signal, label=\"Sample Signal\", color='blue')\n",
    "\n",
    "# Adding plot labels and title\n",
    "plt.title(\"Sample Signal in Time Domain\")\n",
    "plt.xlabel(\"Time (s)\")\n",
    "plt.ylabel(\"Amplitude\")\n",
    "plt.grid()\n",
    "\n",
    "# Add legend\n",
    "plt.legend()\n",
    "\n",
    "# Display the plot\n",
    "plt.show()"
   ]
  },
  {
   "cell_type": "code",
   "execution_count": null,
   "id": "e8201fb7",
   "metadata": {},
   "outputs": [],
   "source": [
    "# Apply Blackman Window\n",
    "blackman_window = get_window('blackman', len(signal))\n",
    "windowed_signal = signal * blackman_window\n",
    "\n",
    "# Plot the Blackman Window and the Windowed Signal\n",
    "plt.figure(figsize=(12, 6))\n",
    "\n",
    "# Subplot 1: Blackman Window\n",
    "plt.subplot(2, 1, 1)\n",
    "plt.plot(blackman_window, label=\"Blackman Window\", color='green')\n",
    "plt.title(\"Blackman Window\")\n",
    "plt.xlabel(\"Sample\")\n",
    "plt.ylabel(\"Amplitude\")\n",
    "plt.grid()\n",
    "plt.legend()\n",
    "\n",
    "# Subplot 2: Windowed Signal\n",
    "plt.subplot(2, 1, 2)\n",
    "plt.plot(t, windowed_signal, label=\"Windowed Signal\", color='orange')\n",
    "plt.title(\"Signal After Applying Blackman Window\")\n",
    "plt.xlabel(\"Time (s)\")\n",
    "plt.ylabel(\"Amplitude\")\n",
    "plt.grid()\n",
    "plt.legend()\n",
    "\n",
    "# Adjust layout and show plot\n",
    "plt.tight_layout()\n",
    "plt.show()"
   ]
  },
  {
   "cell_type": "code",
   "execution_count": null,
   "id": "1dd0247c-3b50-4546-b260-f55424c11e09",
   "metadata": {},
   "outputs": [],
   "source": [
    "# Plot Original and Windowed Signals\n",
    "plt.figure(figsize=(10, 6))\n",
    "plt.plot(t, signal, label=\"Original Signal\", color='blue')\n",
    "plt.plot(t, windowed_signal, label=\"Windowed Signal\", linestyle='--', color='orange')"
   ]
  },
  {
   "cell_type": "code",
   "execution_count": null,
   "id": "013195d0",
   "metadata": {},
   "outputs": [],
   "source": [
    "# Compute the Frequency Spectrum\n",
    "f_original, Pxx_original = welch(signal, fs=fs, nperseg=256)\n",
    "f_windowed, Pxx_windowed = welch(windowed_signal, fs=fs, nperseg=256)\n",
    "\n",
    "# Plot the Frequency Spectrum\n",
    "plt.figure(figsize=(12, 6))\n",
    "\n",
    "# Original Signal Spectrum\n",
    "plt.semilogy(f_original, Pxx_original, label=\"Original Signal\", color='blue')\n",
    "\n",
    "# Windowed Signal Spectrum\n",
    "plt.semilogy(f_windowed, Pxx_windowed, label=\"Windowed Signal\", color='orange', linestyle='--')\n",
    "\n",
    "# Customize the Plot\n",
    "plt.title(\"Power Spectral Density (PSD)\")\n",
    "plt.xlabel(\"Frequency (Hz)\")\n",
    "plt.ylabel(\"Power\")\n",
    "plt.grid()\n",
    "plt.legend()\n",
    "\n",
    "# Show the Plot\n",
    "plt.show()"
   ]
  }
 ],
 "metadata": {
  "kernelspec": {
   "display_name": "Python 3 (ipykernel)",
   "language": "python",
   "name": "python3"
  },
  "language_info": {
   "codemirror_mode": {
    "name": "ipython",
    "version": 3
   },
   "file_extension": ".py",
   "mimetype": "text/x-python",
   "name": "python",
   "nbconvert_exporter": "python",
   "pygments_lexer": "ipython3",
   "version": "3.12.2"
  }
 },
 "nbformat": 4,
 "nbformat_minor": 5
}

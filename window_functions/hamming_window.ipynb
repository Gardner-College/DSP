{
 "cells": [
  {
   "cell_type": "markdown",
   "id": "b4169987",
   "metadata": {},
   "source": [
    "# Laboratory Experiment 007: Hamming Window\n",
    "This notebook demonstrates how to use the Hamming window to reduce spectral leakage and achieve a moderate roll-off."
   ]
  },
  {
   "cell_type": "code",
   "execution_count": null,
   "id": "c05f4190",
   "metadata": {},
   "outputs": [],
   "source": [
    "import numpy as np\n",
    "import matplotlib.pyplot as plt\n",
    "from scipy.signal import get_window, welch"
   ]
  },
  {
   "cell_type": "code",
   "execution_count": null,
   "id": "5322f8c0",
   "metadata": {},
   "outputs": [],
   "source": [
    "# Generate a Sample Signal\n",
    "fs = 1000  # Sampling frequency (Hz)\n",
    "t = np.linspace(0, 1, fs, endpoint=False)  # Time vector\n",
    "f1, f2 = 50, 150  # Frequencies of the sine waves (Hz)\n",
    "signal = np.sin(2 * np.pi * f1 * t) + 0.5 * np.sin(2 * np.pi * f2 * t)\n",
    "\n",
    "# Plot the Sample Signal\n",
    "plt.figure(figsize=(10, 5))\n",
    "plt.plot(t, signal, label=\"Sample Signal\")\n",
    "plt.title(\"Sample Signal in Time Domain\")\n",
    "plt.xlabel(\"Time (s)\")\n",
    "plt.ylabel(\"Amplitude\")\n",
    "plt.grid()\n",
    "plt.legend()\n",
    "plt.show()"
   ]
  },
  {
   "cell_type": "code",
   "execution_count": null,
   "id": "119350ea",
   "metadata": {},
   "outputs": [],
   "source": [
    "# Apply Hamming Window\n",
    "hamming_window = get_window('hamming', len(signal))\n",
    "windowed_signal = signal * hamming_window\n",
    "\n",
    "# Plot the Hamming Window and the Windowed Signal\n",
    "plt.figure(figsize=(12, 6))\n",
    "\n",
    "# Subplot 1: Hamming Window\n",
    "plt.subplot(2, 1, 1)\n",
    "plt.plot(hamming_window, label=\"Hamming Window\")\n",
    "plt.title(\"Hamming Window\")\n",
    "plt.xlabel(\"Sample\")\n",
    "plt.ylabel(\"Amplitude\")\n",
    "plt.grid()\n",
    "plt.legend()\n",
    "\n",
    "# Subplot 2: Windowed Signal\n",
    "plt.subplot(2, 1, 2)\n",
    "plt.plot(t, windowed_signal, label=\"Windowed Signal\", color='orange')\n",
    "plt.title(\"Signal After Applying Hamming Window\")\n",
    "plt.xlabel(\"Time (s)\")\n",
    "plt.ylabel(\"Amplitude\")\n",
    "plt.grid()\n",
    "plt.legend()\n",
    "\n",
    "plt.tight_layout()\n",
    "plt.show()"
   ]
  },
  {
   "cell_type": "code",
   "execution_count": null,
   "id": "57069d09-93ef-4a5f-86af-acf6b68bf9fc",
   "metadata": {},
   "outputs": [],
   "source": [
    "# Visualization\n",
    "plt.figure(figsize=(12, 8))\n",
    "\n",
    "# Plot Original and Windowed Signals\n",
    "plt.plot(t, signal, label=\"Original Signal\")\n",
    "plt.plot(t, windowed_signal, label=\"Windowed Signal\", linestyle='--')\n",
    "plt.title(\"Signal (Original vs Windowed)\")\n",
    "plt.xlabel(\"Time (s)\")\n",
    "plt.ylabel(\"Amplitude\")\n",
    "plt.legend()\n",
    "plt.grid()"
   ]
  },
  {
   "cell_type": "code",
   "execution_count": null,
   "id": "9d97e702",
   "metadata": {},
   "outputs": [],
   "source": [
    "# Compute the Frequency Spectrum\n",
    "f_original, Pxx_original = welch(signal, fs=fs, nperseg=256)\n",
    "f_windowed, Pxx_windowed = welch(windowed_signal, fs=fs, nperseg=256)\n",
    "\n",
    "# Plot the Frequency Spectrum\n",
    "plt.figure(figsize=(12, 6))\n",
    "\n",
    "# Plot Original Signal Spectrum\n",
    "plt.semilogy(f_original, Pxx_original, label=\"Original Signal\", color='blue')\n",
    "# Plot Windowed Signal Spectrum\n",
    "plt.semilogy(f_windowed, Pxx_windowed, label=\"Windowed Signal\", color='orange', linestyle='--')\n",
    "\n",
    "# Customize the Plot\n",
    "plt.title(\"Power Spectral Density (PSD)\")\n",
    "plt.xlabel(\"Frequency (Hz)\")\n",
    "plt.ylabel(\"Power\")\n",
    "plt.grid()\n",
    "plt.legend()\n",
    "\n",
    "plt.show()"
   ]
  }
 ],
 "metadata": {
  "kernelspec": {
   "display_name": "Python 3 (ipykernel)",
   "language": "python",
   "name": "python3"
  },
  "language_info": {
   "codemirror_mode": {
    "name": "ipython",
    "version": 3
   },
   "file_extension": ".py",
   "mimetype": "text/x-python",
   "name": "python",
   "nbconvert_exporter": "python",
   "pygments_lexer": "ipython3",
   "version": "3.12.2"
  }
 },
 "nbformat": 4,
 "nbformat_minor": 5
}

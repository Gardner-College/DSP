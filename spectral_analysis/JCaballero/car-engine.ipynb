{
 "cells": [
  {
   "cell_type": "code",
   "execution_count": 1,
   "id": "1250afd0-d6dd-450a-9e0c-dae37a63ec92",
   "metadata": {},
   "outputs": [],
   "source": [
    "import matplotlib.pyplot as plt\n",
    "import numpy as np\n",
    "from scipy.fftpack import fft\n",
    "from scipy import signal\n",
    "from mpl_toolkits.mplot3d import Axes3D\n",
    "import tkinter as tk\n",
    "from tkinter import filedialog\n",
    "import time\n",
    "time.clock = time.time"
   ]
  },
  {
   "cell_type": "code",
   "execution_count": 3,
   "id": "25586a7a-7a3f-4fb0-b89c-cdc759dee466",
   "metadata": {},
   "outputs": [
    {
     "name": "stdout",
     "output_type": "stream",
     "text": [
      "C:/Users/ACER2025/PycharmProjects/DSP/spectral_analysis/car_engine.csv\n"
     ]
    }
   ],
   "source": [
    "#Prompt user for file\n",
    "root = tk.Tk()\n",
    "root.withdraw()\n",
    "file_path = filedialog.askopenfilename(filetypes=[(\"Two Column CSV\",\"*.csv\")])\n",
    "print(file_path)"
   ]
  },
  {
   "cell_type": "code",
   "execution_count": 4,
   "id": "4ef93b65-09c2-445e-a474-60ae0d8a8442",
   "metadata": {},
   "outputs": [
    {
     "name": "stdout",
     "output_type": "stream",
     "text": [
      "Load Time: 2.4139745235443115\n"
     ]
    }
   ],
   "source": [
    "#Load Data (assumes two column array\n",
    "tic = time.clock()\n",
    "t, x = np.genfromtxt(file_path,delimiter=',', unpack=True)\n",
    "toc = time.clock()\n",
    "print(\"Load Time:\",toc-tic)"
   ]
  },
  {
   "cell_type": "code",
   "execution_count": 5,
   "id": "0cf41072-061d-4768-9ca8-f918ef45ca75",
   "metadata": {},
   "outputs": [
    {
     "name": "stdout",
     "output_type": "stream",
     "text": [
      "# Samples: 1200048\n"
     ]
    }
   ],
   "source": [
    "#Determine variables\n",
    "N = np.int_(np.prod(t.shape))#length of the array\n",
    "Fs = 1/(t[1]-t[0]) \t#sample rate (Hz)\n",
    "T = 1/Fs;\n",
    "print(\"# Samples:\",N)"
   ]
  },
  {
   "cell_type": "code",
   "execution_count": null,
   "id": "58d33553-b1b1-4240-b4a1-31b52f2a8ea8",
   "metadata": {},
   "outputs": [],
   "source": []
  }
 ],
 "metadata": {
  "kernelspec": {
   "display_name": "Python 3 (ipykernel)",
   "language": "python",
   "name": "python3"
  },
  "language_info": {
   "codemirror_mode": {
    "name": "ipython",
    "version": 3
   },
   "file_extension": ".py",
   "mimetype": "text/x-python",
   "name": "python",
   "nbconvert_exporter": "python",
   "pygments_lexer": "ipython3",
   "version": "3.12.7"
  }
 },
 "nbformat": 4,
 "nbformat_minor": 5
}
